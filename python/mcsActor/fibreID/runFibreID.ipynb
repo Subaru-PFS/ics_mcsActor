{
 "cells": [
  {
   "cell_type": "markdown",
   "metadata": {},
   "source": [
    "# general notes\n",
    "\n",
    "note that the points/centres/target are stored in nx3 numpy arrays where the first colum is the number, the second and third the coordinates. This should be maintained, as this is compatible with Yuki's transformation code. \n",
    "\n",
    "you need to add the target information as well\n",
    "\n",
    "the end result is a list of lists, potPointMatch, which is the same length as goodIdx. Use goodIdx to transform to the cobra number. The contents of the list is a single element list which contains the index of the point that matches the cobra (in the array points), or an empty list if there is no match. \n",
    "\n",
    "The code cannot assign the same point to more than one cobra\n"
   ]
  },
  {
   "cell_type": "markdown",
   "metadata": {},
   "source": [
    "# imports\n",
    "\n",
    "Note that you need to fix the paths for your system"
   ]
  },
  {
   "cell_type": "code",
   "execution_count": 244,
   "metadata": {},
   "outputs": [],
   "source": [
    "%matplotlib notebook\n",
    "\n",
    "#python package imports\n",
    "import pandas as pd\n",
    "import numpy as np\n",
    "import matplotlib.pyplot as plt\n",
    "from importlib import reload\n",
    "from astropy.io import fits\n",
    "import sys\n",
    "\n",
    "#pfi system imports\n",
    "prefix=\"/Users/karr/Science/PFS/cobraData/Converge21/\"\n",
    "#sys.path.append('/Users/chyan/Documents/workspace/ics_cobraCharmer/python/ics/cobraCharmer')\n",
    "sys.path.insert(1, \"/Users/karr/Science/PFS/pfsPackages/ics_cobraCharmer/python/procedures/moduleTest/\")\n",
    "sys.path.insert(1, \"/Users/karr/Science/PFS/pfsPackages/ics_cobraCharmer/python/ics/cobraCharmer/\")\n",
    "sys.path.insert(1, \"/Users/karr/Science/PFS/cobraData/\")\n",
    "import pfi as pfi \n",
    "\n",
    "#my imports\n",
    "import fibreID as fi\n",
    "import centroid\n"
   ]
  },
  {
   "cell_type": "markdown",
   "metadata": {},
   "source": [
    "# set variables\n",
    "\n",
    "change broken and xmlFile to current values"
   ]
  },
  {
   "cell_type": "code",
   "execution_count": 245,
   "metadata": {},
   "outputs": [],
   "source": [
    "\n",
    "\n",
    "\n",
    "prefix=\"/Users/karr/Science/PFS/cobraData/Full2D/\"\n",
    "xmlFile=prefix+'20210219_002/output/ALL_new.xml'\n",
    "broken=[47,193,347,361,754,799,821,853,949,1150,1208,1210,1520,1580,1637,1653,1724,1825,1836,1882,1903,2053,2352,2380]\n"
   ]
  },
  {
   "cell_type": "markdown",
   "metadata": {},
   "source": [
    "# call routines for variables\n",
    "\n",
    "getCalibBench gets the centers, arm lengths, etc, and makes the goodIdx variable\n",
    "\n",
    "standardParameters loads the centroiding parameters\n",
    "\n",
    "These two only need to be done once per configuration. \n"
   ]
  },
  {
   "cell_type": "code",
   "execution_count": 246,
   "metadata": {},
   "outputs": [
    {
     "name": "stderr",
     "output_type": "stream",
     "text": [
      "/Users/karr/Science/PFS/pfsPackages/ics_cobraCharmer/python/ics/cobraCharmer/pfiDesign.py:271: RuntimeWarning: divide by zero encountered in true_divide\n",
      "  self.S1Nm[i] = angularStep / np.array(list(map(float, slowJoint1Rev)))\n",
      "2021-03-31T14:03:46.915 20 pfi        pfi.py:102 load cobra model from [PosixPath('/Users/karr/Science/PFS/cobraData/Full2D/20210219_002/output/ALL_new.xml')]\n"
     ]
    }
   ],
   "source": [
    "reload(fi)\n",
    "#temporary routine to import information from xml file\n",
    "pfic,centers,centersAll,goodIdx,arms,armsAll,nCobras,nCobrasAll=fi.getCalibBench(xmlFile,broken)\n",
    "\n",
    "#temporary routine to get the centroiding variables\n",
    "sigmaFind,sigmaCent,sigmaThresh,boxFind,boxCent,nMin,nMax,maxIt,fwhmX,fwhmY=fi.standardParameters()\n",
    "\n"
   ]
  },
  {
   "cell_type": "markdown",
   "metadata": {},
   "source": [
    "# calculate threshold for centroiding\n",
    "\n",
    "only need to do once per configuration, until the lighting conditions change"
   ]
  },
  {
   "cell_type": "code",
   "execution_count": 247,
   "metadata": {},
   "outputs": [
    {
     "name": "stdout",
     "output_type": "stream",
     "text": [
      "183.1120411058803 56.95786471991921\n"
     ]
    }
   ],
   "source": [
    "#load iamge\n",
    "image=fits.getdata(\"testdata/PFSC00009169.fits\")\n",
    "\n",
    "threshFind,threshCent=fi.getThresh(image,centers,sigmaFind,sigmaCent,sigmaThresh)\n",
    "print(threshFind,threshCent)\n"
   ]
  },
  {
   "cell_type": "markdown",
   "metadata": {},
   "source": [
    "# some pre-calculations for fibre identification\n",
    "\n",
    "makeAdjacentList only needs to be re-done when the centre positions change\n",
    "\n",
    "makeSpirals only needs to be done once"
   ]
  },
  {
   "cell_type": "code",
   "execution_count": 47,
   "metadata": {},
   "outputs": [],
   "source": [
    "#list of adjacent cobras, mostly important with spots\n",
    "adjacentCobras=fi.makeAdjacentList(centers,arms)\n",
    "#spiral pattern for searching around spots\n",
    "spiralX,spiralY=fi.makeSpirals(6,15)\n"
   ]
  },
  {
   "cell_type": "markdown",
   "metadata": {},
   "source": [
    "# centroid\n",
    "\n",
    "The code below here is done once for each movement/image"
   ]
  },
  {
   "cell_type": "code",
   "execution_count": 249,
   "metadata": {},
   "outputs": [
    {
     "name": "stdout",
     "output_type": "stream",
     "text": [
      "(2389, 2370) (2370,)\n"
     ]
    }
   ],
   "source": [
    "\n",
    "image=fits.getdata(\"20210219_009/data/PFSC00009169.fits\")\n",
    "\n",
    "#centroid\n",
    "points,nPoints=fi.getCentroids(image,threshFind,threshCent,boxFind,boxCent,nMin,nMax,maxIt)\n"
   ]
  },
  {
   "cell_type": "markdown",
   "metadata": {},
   "source": [
    "# identify"
   ]
  },
  {
   "cell_type": "code",
   "execution_count": 40,
   "metadata": {},
   "outputs": [
    {
     "name": "stdout",
     "output_type": "stream",
     "text": [
      "(2389, 2370) (2370,)\n"
     ]
    }
   ],
   "source": [
    "# set up the bookkeeping variables\n",
    "aCobras,unaCobras,aPoints,unaPoints,potCobraMatch,potPointMatch=fi.prepWork(points,nPoints,nCobras,centers,arms,goodIdx)\n",
    "# first pass through identifications\n",
    "aCobras,unaCobras,aPoints,unaPoints,potCobraMatch,potPointMatch,anyChange=fi.firstPass(aCobras,unaCobras,aPoints,unaPoints,potCobraMatch,potPointMatch)\n",
    "#second pass; ambigious cobras ar assigned to the nearest point to the target \n",
    "aCobras,unaCobras,aPoints,unaPoints,potCobraMatch,potPointMatch=fi.secondPassBench(aCobras,unaCobras,aPoints,unaPoints,potCobraMatch,potPointMatch,points,targets)\n",
    "\n"
   ]
  }
 ],
 "metadata": {
  "kernelspec": {
   "display_name": "Python 3",
   "language": "python",
   "name": "python3"
  },
  "language_info": {
   "codemirror_mode": {
    "name": "ipython",
    "version": 3
   },
   "file_extension": ".py",
   "mimetype": "text/x-python",
   "name": "python",
   "nbconvert_exporter": "python",
   "pygments_lexer": "ipython3",
   "version": "3.7.9"
  }
 },
 "nbformat": 4,
 "nbformat_minor": 4
}
