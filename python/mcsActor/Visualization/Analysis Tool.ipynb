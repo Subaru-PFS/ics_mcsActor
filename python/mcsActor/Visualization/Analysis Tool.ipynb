{
 "cells": [
  {
   "cell_type": "markdown",
   "metadata": {},
   "source": [
    "# General Analysis\n",
    "\n",
    "Notebook for plotting combinations of different sets of data. \n"
   ]
  },
  {
   "cell_type": "code",
   "execution_count": 2,
   "metadata": {
    "collapsed": true
   },
   "outputs": [],
   "source": [
    "%matplotlib notebook\n",
    "\n",
    "import matplotlib.pyplot as plt\n",
    "\n",
    "#the try/except is for using in the MHS environment, or standalone. \n",
    "\n",
    "try:\n",
    "    import mcsActor.Visualization.vis_plotting as visplot\n",
    "except:\n",
    "    import vis_plotting as visplot\n",
    "\n",
    "try:\n",
    "    import mcsActor.Visualization.vis_calculations as viscalc\n",
    "except:\n",
    "    import vis_calculations as viscalc\n",
    "\n",
    "try:\n",
    "    import mcsActor.Visualization.vis_coordinates as viscoords\n",
    "except:\n",
    "    import vis_coordinates as viscoords\n",
    "\n",
    "try:\n",
    "    import mcsActor.Visualization.vis_io as visio\n",
    "except:\n",
    "    import vis_io as visio\n",
    "\n",
    "import sys\n",
    "sys.path.append(\"/software/devel/pfs/pfs_utils/python/pfs/utils/coordinates/\")\n",
    "sys.path.append(\"/Users/karr/pfs_utils/python/pfs/utils/coordinates/\")\n",
    "import CoordTransp    \n",
    "\n",
    "import psycopg2\n",
    "import numpy as np\n",
    "from importlib import reload  #for debugging purposes\n",
    "from matplotlib.mlab import griddata\n",
    "\n"
   ]
  },
  {
   "cell_type": "markdown",
   "metadata": {},
   "source": [
    "# Seeing Plots\n",
    "\n",
    "An example of loading in a set of seeing plot data and doing a general plot."
   ]
  },
  {
   "cell_type": "code",
   "execution_count": null,
   "metadata": {
    "collapsed": true
   },
   "outputs": [],
   "source": [
    "\n",
    "#list of prefixes, \n",
    "\n",
    "prefixes=[\"240_270_0\",\"270_290_0\"]\n",
    "times=[0.1,0.5]\n",
    "prefix=\"test\"\n",
    "#load a set of data structures\n",
    "dataStructs=[]\n",
    "rms=[]\n",
    "for id in prefixes:\n",
    "    dstruct=visio.seeingLoad(id,0)\n",
    "    dataStructures.append(dstruct)\n",
    "    rms.append(dstruct['rms'])\n",
    "    \n",
    "fig,ax=plt.subplots()\n",
    "ax.plot(times,rms,marker=\"o\",linestyle=\"-\")\n",
    "plt.title(\"RMS vs time for Elevation=90\")\n",
    "plt.xlabel(\"time (s)\")\n",
    "plt.ylabel(\"RMS\")\n",
    "plt.savefig(\"el=90_rmsbytime.png\")\n"
   ]
  },
  {
   "cell_type": "markdown",
   "metadata": {},
   "source": [
    "# Centroid Parameters by Position\n",
    "\n",
    "An example of how to combine centroid parameters from a number of different positions"
   ]
  },
  {
   "cell_type": "code",
   "execution_count": 1,
   "metadata": {
    "collapsed": true
   },
   "outputs": [],
   "source": [
    "\n",
    "prefixes=[\"201\",\"202\",\"203\"]\n",
    "dataStructs=[]\n",
    "\n",
    "#read in the data\n",
    "x=[]\n",
    "y=[]\n",
    "fx=[]\n",
    "for id in prefixes:\n",
    "    dstruct=visio.qualityLoad(id,0)\n",
    "    x.append(dstruct['x'])\n",
    "    y.append(dstruct['y'])\n",
    "    fx.append(dstruct['fx'])\n",
    "\n",
    "#create a large array\n",
    "x=np.array(x).flatten()\n",
    "y=np.array(y).flatten()\n",
    "fx=np.array(fx).flatten()\n",
    "\n",
    "\n",
    "x_new=np.arange(np.int(x.min()),np.int(x.max()),5)\n",
    "y_new=np.arange(np.int(y.min()),np.int(y.max()),5)\n",
    "fx_regrid=griddata(x,y,z,x_new,y_new)\n",
    "\n",
    "fig,ax=plt.subplots()\n",
    "ax.scatter(x_new,ynew,c=fx)\n",
    "plt.title(\"FWHM(x) across field\")\n",
    "plt.xlabel(\"x [pixels]\")\n",
    "plt.ylabel(\"y [pixels]\")\n",
    "plt.savefig(\"fx_range.png\")\n"
   ]
  },
  {
   "cell_type": "markdown",
   "metadata": {},
   "source": [
    "# Combining Sets of Distortion Maps\n",
    "\n"
   ]
  },
  {
   "cell_type": "code",
   "execution_count": null,
   "metadata": {
    "collapsed": true
   },
   "outputs": [],
   "source": []
  }
 ],
 "metadata": {
  "kernelspec": {
   "display_name": "Python 3",
   "language": "python",
   "name": "python3"
  },
  "language_info": {
   "codemirror_mode": {
    "name": "ipython",
    "version": 3
   },
   "file_extension": ".py",
   "mimetype": "text/x-python",
   "name": "python",
   "nbconvert_exporter": "python",
   "pygments_lexer": "ipython3",
   "version": "3.5.3"
  }
 },
 "nbformat": 4,
 "nbformat_minor": 2
}
